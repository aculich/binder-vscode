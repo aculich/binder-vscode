{
 "cells": [
  {
   "cell_type": "markdown",
   "metadata": {},
   "source": [
    "# Hello World with VS Code (code-server) via Jupyter Proxy\n",
    "\n",
    "This notebook demonstrates how to launch VS Code (running as `code-server`) within your Binder session using the `jupyter-vscode-proxy` extension."
   ]
  },
  {
   "cell_type": "code",
   "execution_count": null,
   "metadata": {},
   "outputs": [],
   "source": [
    "print(\"Hello from the Jupyter Notebook!\")\n",
    "\n",
    "message = \"You can run Python code here as usual.\""
   ]
  },
  {
   "cell_type": "markdown",
   "metadata": {},
   "source": [
    "## Accessing VS Code\n",
    "\n",
    "1.  **Ensure `jupyter-vscode-proxy` is installed:** The `binder/requirements.txt` file in this repository should have taken care of this.\n",
    "2.  **Find the VS Code Link:**\n",
    "    * In JupyterLab (recommended): Look for the VS Code icon in the Launcher tab, or go to `File` -> `New Launcher` and click the VS Code icon.\n",
    "    * Alternatively, you can manually navigate: Change the URL in your browser. If your Jupyter session URL is `https://<binder-hub-url>/user/<username>/lab`, change the `/lab` part to `/vscode/`. The full URL will look something like `https://<binder-hub-url>/user/<username>/vscode/`.\n",
    "3.  **First Launch:** The very first time you access the `/vscode/` URL in a new Binder session, `jupyter-vscode-proxy` might need to download `code-server`. This can take a minute or two, so be patient. You might see log messages in the terminal where you launched Jupyter (if running locally) or just a loading screen in the browser.\n",
    "4.  **Use VS Code:** Once loaded, you'll have a fully functional VS Code interface running in your browser, accessing the filesystem of your Binder container.\n",
    "\n",
    "You can open this notebook (`hello_world_vscode.ipynb`) or create new files directly within the VS Code interface."
   ]
  }
 ],
 "metadata": {
  "kernelspec": {
   "display_name": "Python 3",
   "language": "python",
   "name": "python3"
  },
  "language_info": {
   "codemirror_mode": {
    "name": "ipython",
    "version": 3
   },
   "file_extension": ".py",
   "mimetype": "text/x-python",
   "name": "python",
   "nbconvert_exporter": "python",
   "pygments_lexer": "ipython3",
   "version": "3.9.7"
  }
 },
 "nbformat": 4,
 "nbformat_minor": 4
}